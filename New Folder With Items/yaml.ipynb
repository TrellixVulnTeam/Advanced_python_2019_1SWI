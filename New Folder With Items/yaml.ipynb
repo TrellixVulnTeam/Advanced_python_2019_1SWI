{
 "cells": [
  {
   "cell_type": "code",
   "execution_count": 1,
   "metadata": {},
   "outputs": [],
   "source": [
    "data = '''\n",
    "    attr1: 'valye',\n",
    "    attr2: 123\n",
    "    attr3: 0.89\n",
    "    attr4:\n",
    "        - 'value1'\n",
    "        - 'value2'\n",
    "        - 'value3'\n",
    "'''\n",
    "\n"
   ]
  },
  {
   "cell_type": "code",
   "execution_count": 7,
   "metadata": {},
   "outputs": [],
   "source": [
    "import yaml\n",
    "\n",
    "data = {\n",
    "    'attr1': 'valye',\n",
    "    'attr2': 123,\n",
    "    'attr3': 0.89,\n",
    "    'attr4':\n",
    "        ['value1',\n",
    "        'value2',\n",
    "        'value3']\n",
    "}\n",
    "\n",
    "\n",
    "\n",
    "\n",
    "with open('data/write.yaml', 'w') as file:\n",
    "    yaml.dump(data, file, Dumper=yaml.Dumper)"
   ]
  },
  {
   "cell_type": "code",
   "execution_count": 13,
   "metadata": {},
   "outputs": [
    {
     "name": "stdout",
     "output_type": "stream",
     "text": [
      "{   'attr1': 'valye',\n",
      "    'attr2': 123,\n",
      "    'attr3': 0.89,\n",
      "    'attr4': ['value1', 'value2', 'value3']}\n"
     ]
    }
   ],
   "source": [
    "import yaml, pprint\n",
    "\n",
    "\n",
    "with open('data/read.yaml') as file:\n",
    "    printer = pprint.PrettyPrinter(indent=4)\n",
    "    printer.pprint(yaml.load(file, Loader=yaml.Loader))"
   ]
  },
  {
   "cell_type": "code",
   "execution_count": null,
   "metadata": {},
   "outputs": [],
   "source": []
  }
 ],
 "metadata": {
  "kernelspec": {
   "display_name": "Python 3",
   "language": "python",
   "name": "python3"
  },
  "language_info": {
   "codemirror_mode": {
    "name": "ipython",
    "version": 3
   },
   "file_extension": ".py",
   "mimetype": "text/x-python",
   "name": "python",
   "nbconvert_exporter": "python",
   "pygments_lexer": "ipython3",
   "version": "3.7.3"
  }
 },
 "nbformat": 4,
 "nbformat_minor": 2
}
