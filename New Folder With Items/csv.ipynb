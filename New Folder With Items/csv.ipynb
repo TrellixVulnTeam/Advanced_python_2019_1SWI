{
 "cells": [
  {
   "cell_type": "code",
   "execution_count": 1,
   "metadata": {},
   "outputs": [],
   "source": [
    "raw = '''\n",
    "data1,data2,data3,data4,data5\n",
    "data1,data2,data3,data4,data5\n",
    "data1,data2,data3,data4,data5\n",
    "data1,data2,data3,data4,data5\n",
    "data1,data2,data3,data4,data5\n",
    "data1,data2,data3,data4,data5\n",
    "data1,data2,data3,data4,data5\n",
    "data1,data2,data3,data4,data5\n",
    "data1,data2,data3,data4,data5\n",
    "data1,data2,data3,data4,data5\n",
    "data1,data2,data3,data4,data5\n",
    "'''"
   ]
  },
  {
   "cell_type": "code",
   "execution_count": 3,
   "metadata": {},
   "outputs": [
    {
     "name": "stdout",
     "output_type": "stream",
     "text": [
      "['header1', 'header2', 'header3', 'header4', 'header5']\n",
      "['data1', 'data2', 'data3', 'data4', 'data5']\n",
      "['data1', 'data2', 'data3', 'data4', 'data5']\n",
      "['data1', 'data2', 'data3', 'data4', 'data5']\n",
      "['data1', 'data2', 'data3', 'data4', 'data5']\n",
      "['data1', 'data2', 'data3', 'data4', 'data5']\n",
      "['data1', 'data2', 'data3', 'data4', 'data5']\n",
      "['data1', 'data2', 'data3', 'data4', 'data5']\n",
      "['data1', 'data2', 'data3', 'data4', 'data5']\n",
      "['data1', 'data2', 'data3', 'data4', 'data5']\n",
      "['data1', 'data2', 'data3', 'data4', 'data5']\n",
      "['data1', 'data2', 'data3', 'data4', 'data5']\n"
     ]
    }
   ],
   "source": [
    "import csv\n",
    "\n",
    "with open('data/read.csv') as file:\n",
    "    reader = csv.reader(file)\n",
    "    for row in reader:\n",
    "        print(row)"
   ]
  },
  {
   "cell_type": "code",
   "execution_count": 4,
   "metadata": {},
   "outputs": [
    {
     "name": "stdout",
     "output_type": "stream",
     "text": [
      "OrderedDict([('header1', 'data1'), ('header2', 'data2'), ('header3', 'data3'), ('header4', 'data4'), ('header5', 'data5')])\n",
      "OrderedDict([('header1', 'data1'), ('header2', 'data2'), ('header3', 'data3'), ('header4', 'data4'), ('header5', 'data5')])\n",
      "OrderedDict([('header1', 'data1'), ('header2', 'data2'), ('header3', 'data3'), ('header4', 'data4'), ('header5', 'data5')])\n",
      "OrderedDict([('header1', 'data1'), ('header2', 'data2'), ('header3', 'data3'), ('header4', 'data4'), ('header5', 'data5')])\n",
      "OrderedDict([('header1', 'data1'), ('header2', 'data2'), ('header3', 'data3'), ('header4', 'data4'), ('header5', 'data5')])\n",
      "OrderedDict([('header1', 'data1'), ('header2', 'data2'), ('header3', 'data3'), ('header4', 'data4'), ('header5', 'data5')])\n",
      "OrderedDict([('header1', 'data1'), ('header2', 'data2'), ('header3', 'data3'), ('header4', 'data4'), ('header5', 'data5')])\n",
      "OrderedDict([('header1', 'data1'), ('header2', 'data2'), ('header3', 'data3'), ('header4', 'data4'), ('header5', 'data5')])\n",
      "OrderedDict([('header1', 'data1'), ('header2', 'data2'), ('header3', 'data3'), ('header4', 'data4'), ('header5', 'data5')])\n",
      "OrderedDict([('header1', 'data1'), ('header2', 'data2'), ('header3', 'data3'), ('header4', 'data4'), ('header5', 'data5')])\n",
      "OrderedDict([('header1', 'data1'), ('header2', 'data2'), ('header3', 'data3'), ('header4', 'data4'), ('header5', 'data5')])\n"
     ]
    }
   ],
   "source": [
    "import csv\n",
    "\n",
    "with open('data/read.csv') as file:\n",
    "    reader = csv.DictReader(file)\n",
    "    for row in reader:\n",
    "        print(row)"
   ]
  },
  {
   "cell_type": "code",
   "execution_count": 5,
   "metadata": {},
   "outputs": [
    {
     "name": "stdout",
     "output_type": "stream",
     "text": [
      "data2\n",
      "data2\n",
      "data2\n",
      "data2\n",
      "data2\n",
      "data2\n",
      "data2\n",
      "data2\n",
      "data2\n",
      "data2\n",
      "data2\n"
     ]
    }
   ],
   "source": [
    "import csv\n",
    "\n",
    "with open('data/read.csv') as file:\n",
    "    reader = csv.DictReader(file)\n",
    "    for row in reader:\n",
    "        print(row.get('header2'))"
   ]
  },
  {
   "cell_type": "code",
   "execution_count": 11,
   "metadata": {},
   "outputs": [
    {
     "data": {
      "text/plain": [
       "[<__main__.Sample at 0x104f2a3c8>,\n",
       " <__main__.Sample at 0x104f2a400>,\n",
       " <__main__.Sample at 0x104f2ab38>,\n",
       " <__main__.Sample at 0x104f2ac88>,\n",
       " <__main__.Sample at 0x104f2add8>,\n",
       " <__main__.Sample at 0x104f2af28>,\n",
       " <__main__.Sample at 0x104f2ae10>,\n",
       " <__main__.Sample at 0x104fa70b8>,\n",
       " <__main__.Sample at 0x104fa72b0>,\n",
       " <__main__.Sample at 0x104fa7400>,\n",
       " <__main__.Sample at 0x104fa7550>]"
      ]
     },
     "execution_count": 11,
     "metadata": {},
     "output_type": "execute_result"
    }
   ],
   "source": [
    "import csv\n",
    "\n",
    "class Sample():\n",
    "    def __init__(self, **kwargs):\n",
    "        self.__dict__.update(kwargs)\n",
    "        \n",
    "\n",
    "with open('data/read.csv') as file:\n",
    "    reader = csv.DictReader(file)\n",
    "    data = [Sample(**row) for row in reader]\n",
    "    \n",
    "data\n",
    "data[0].header1"
   ]
  },
  {
   "cell_type": "code",
   "execution_count": 13,
   "metadata": {},
   "outputs": [],
   "source": [
    "import csv\n",
    "\n",
    "data = [['header1', 'header2', 'header3', 'header4', 'header5'],\n",
    "    ['data1', 'data2', 'data3', 'data4', 'data5'],\n",
    "    ['data1', 'data2', 'data3', 'data4', 'data5'],\n",
    "    ['data1', 'data2', 'data3', 'data4', 'data5'],\n",
    "    ['data1', 'data2', 'data3', 'data4', 'data5'],\n",
    "    ['data1', 'data2', 'data3', 'data4', 'data5'],\n",
    "    ['data1', 'data2', 'data3', 'data4', 'data5'],\n",
    "    ['data1', 'data2', 'data3', 'data4', 'data5'],\n",
    "    ['data1', 'data2', 'data3', 'data4', 'data5'],\n",
    "    ['data1', 'data2', 'data3', 'data4', 'data5'],\n",
    "    ['data1', 'data2', 'data3', 'data4', 'data5'],\n",
    "    ['data1', 'data2', 'data3', 'data4', 'data5']\n",
    "       \n",
    "    ]\n",
    "\n",
    "with open('data/write.csv', 'w') as file:\n",
    "    writer = csv.writer(file)\n",
    "    for row in data:\n",
    "        writer.writerow(row)"
   ]
  },
  {
   "cell_type": "code",
   "execution_count": 15,
   "metadata": {},
   "outputs": [],
   "source": [
    "import csv\n",
    "\n",
    "data = [\n",
    "    {'header1':'data1', 'header2':'data2', 'header3':'data3', 'header4':'data4', 'header5':'data5'},\n",
    "    {'header1':'data1', 'header2':'data2', 'header3':'data3', 'header4':'data4', 'header5':'data5'},\n",
    "    {'header1':'data1', 'header2':'data2', 'header3':'data3', 'header4':'data4', 'header5':'data5'},\n",
    "    {'header1':'data1', 'header2':'data2', 'header3':'data3', 'header4':'data4', 'header5':'data5'},\n",
    "    {'header1':'data1', 'header2':'data2', 'header3':'data3', 'header4':'data4', 'header5':'data5'},\n",
    "    {'header1':'data1', 'header2':'data2', 'header3':'data3', 'header4':'data4', 'header5':'data5'},\n",
    "    {'header1':'data1', 'header2':'data2', 'header3':'data3', 'header4':'data4', 'header5':'data5'},\n",
    "    {'header1':'data1', 'header2':'data2', 'header3':'data3', 'header4':'data4', 'header5':'data5'},\n",
    "    {'header1':'data1', 'header2':'data2', 'header3':'data3', 'header4':'data4', 'header5':'data5'},\n",
    "    {'header1':'data1', 'header2':'data2', 'header3':'data3', 'header4':'data4', 'header5':'data5'},\n",
    "    {'header1':'data1', 'header2':'data2', 'header3':'data3', 'header4':'data4', 'header5':'data5'},\n",
    "    {'header1':'data1', 'header2':'data2', 'header3':'data3', 'header4':'data4', 'header5':'data5'},\n",
    "    {'header1':'data1', 'header2':'data2', 'header3':'data3', 'header4':'data4', 'header5':'data5'},\n",
    "]\n",
    "\n",
    "headers = ['header1', 'header2', 'header3', 'header4', 'header5']\n",
    "\n",
    "with open('data/write.csv', 'w') as file:\n",
    "    writer = csv.DictWriter(file, headers)\n",
    "    writer.writeheader()\n",
    "    for row in data:\n",
    "        writer.writerow(row)"
   ]
  },
  {
   "cell_type": "code",
   "execution_count": null,
   "metadata": {},
   "outputs": [],
   "source": []
  }
 ],
 "metadata": {
  "kernelspec": {
   "display_name": "Python 3",
   "language": "python",
   "name": "python3"
  },
  "language_info": {
   "codemirror_mode": {
    "name": "ipython",
    "version": 3
   },
   "file_extension": ".py",
   "mimetype": "text/x-python",
   "name": "python",
   "nbconvert_exporter": "python",
   "pygments_lexer": "ipython3",
   "version": "3.7.3"
  }
 },
 "nbformat": 4,
 "nbformat_minor": 2
}
