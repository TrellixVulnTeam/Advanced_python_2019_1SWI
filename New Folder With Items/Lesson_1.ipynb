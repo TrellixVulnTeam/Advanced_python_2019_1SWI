{
 "cells": [
  {
   "cell_type": "code",
   "execution_count": 13,
   "metadata": {},
   "outputs": [
    {
     "name": "stdout",
     "output_type": "stream",
     "text": [
      "b'\\xd1\\x80\\xd0\\xb0\\xd0\\xb7\\xd1\\x80\\xd0\\xb0\\xd0\\xb1\\xd0\\xbe\\xd1\\x82\\xd0\\xba\\xd0\\xb0' \n",
      " b'\\xd1\\x81\\xd0\\xbe\\xd0\\xba\\xd0\\xb5\\xd1\\x82' \n",
      " b'\\xd0\\xb4\\xd0\\xb5\\xd0\\xba\\xd0\\xbe\\xd1\\x80\\xd0\\xb0\\xd1\\x82\\xd0\\xbe\\xd1\\x80'\n"
     ]
    }
   ],
   "source": [
    "string_1 = 'разработка'\n",
    "string_2 = 'сокет'\n",
    "string_3 = 'декоратор'\n",
    "\n",
    "bytes_string_1 = string_1.encode()\n",
    "bytes_string_2 = string_2.encode()\n",
    "bytes_string_3 = string_3.encode()\n",
    "\n",
    "print(bytes_string_1,'\\n',bytes_string_2,'\\n',bytes_string_3)\n"
   ]
  },
  {
   "cell_type": "code",
   "execution_count": 7,
   "metadata": {},
   "outputs": [
    {
     "name": "stdout",
     "output_type": "stream",
     "text": [
      "разработка \n",
      " сокет \n",
      " декоратор\n"
     ]
    }
   ],
   "source": [
    "bytes_string_1 = b'\\xd1\\x80\\xd0\\xb0\\xd0\\xb7\\xd1\\x80\\xd0\\xb0\\xd0\\xb1\\xd0\\xbe\\xd1\\x82\\xd0\\xba\\xd0\\xb0' \n",
    "bytes_string_2 =  b'\\xd1\\x81\\xd0\\xbe\\xd0\\xba\\xd0\\xb5\\xd1\\x82' \n",
    "bytes_string_3 =  b'\\xd0\\xb4\\xd0\\xb5\\xd0\\xba\\xd0\\xbe\\xd1\\x80\\xd0\\xb0\\xd1\\x82\\xd0\\xbe\\xd1\\x80'\n",
    "\n",
    "string_1 = bytes_string_1.decode()\n",
    "string_2 = bytes_string_2.decode()\n",
    "string_3 = bytes_string_3.decode()\n",
    "\n",
    "print(string_1,'\\n',string_2,'\\n',string_3)"
   ]
  },
  {
   "cell_type": "code",
   "execution_count": 21,
   "metadata": {},
   "outputs": [
    {
     "name": "stdout",
     "output_type": "stream",
     "text": [
      "\n",
      "    b'\\xd1\\x80\\xd0\\xb0\\xd0\\xb7\\xd1\\x80\\xd0\\xb0\\xd0\\xb1\\xd0\\xbe\\xd1\\x82\\xd0\\xba\\xd0\\xb0'\n",
      "    b'\\xd1\\x81\\xd0\\xbe\\xd0\\xba\\xd0\\xb5\\xd1\\x82'\n",
      "    b'\\xd0\\xb4\\xd0\\xb5\\xd0\\xba\\xd0\\xbe\\xd1\\x80\\xd0\\xb0\\xd1\\x82\\xd0\\xbe\\xd1\\x80'\n",
      "\n",
      "    ÑÐ°Ð·ÑÐ°Ð±Ð¾ÑÐºÐ°\n",
      "    ÑÐ¾ÐºÐµÑ\n",
      "    Ð´ÐµÐºÐ¾ÑÐ°ÑÐ¾Ñ\n",
      "    \n"
     ]
    }
   ],
   "source": [
    "string_1 = 'разработка'\n",
    "string_2 = 'сокет'\n",
    "string_3 = 'декоратор'\n",
    "bytes_string_1 = b'\\xd1\\x80\\xd0\\xb0\\xd0\\xb7\\xd1\\x80\\xd0\\xb0\\xd0\\xb1\\xd0\\xbe\\xd1\\x82\\xd0\\xba\\xd0\\xb0' \n",
    "bytes_string_2 =  b'\\xd1\\x81\\xd0\\xbe\\xd0\\xba\\xd0\\xb5\\xd1\\x82' \n",
    "bytes_string_3 =  b'\\xd0\\xb4\\xd0\\xb5\\xd0\\xba\\xd0\\xbe\\xd1\\x80\\xd0\\xb0\\xd1\\x82\\xd0\\xbe\\xd1\\x80'\n",
    "\n",
    "utf_bytes_string_1 = string_1.encode('utf-8')\n",
    "utf_bytes_string_2 = string_2.encode('utf-8')\n",
    "utf_bytes_string_3 = string_3.encode('utf-8')\n",
    "\n",
    "latin_string_1 = bytes_string_1.decode('latin-1')\n",
    "latin_string_2 = bytes_string_2.decode('latin-1')\n",
    "latin_string_3 = bytes_string_3.decode('latin-1')\n",
    "\n",
    "print(f'''\n",
    "    {utf_bytes_string_1}\n",
    "    {utf_bytes_string_2}\n",
    "    {utf_bytes_string_3}\n",
    "\n",
    "    {latin_string_1}\n",
    "    {latin_string_2}\n",
    "    {latin_string_3}\n",
    "    ''')\n"
   ]
  }
 ],
 "metadata": {
  "kernelspec": {
   "display_name": "Python 3",
   "language": "python",
   "name": "python3"
  },
  "language_info": {
   "codemirror_mode": {
    "name": "ipython",
    "version": 3
   },
   "file_extension": ".py",
   "mimetype": "text/x-python",
   "name": "python",
   "nbconvert_exporter": "python",
   "pygments_lexer": "ipython3",
   "version": "3.7.3"
  }
 },
 "nbformat": 4,
 "nbformat_minor": 2
}
