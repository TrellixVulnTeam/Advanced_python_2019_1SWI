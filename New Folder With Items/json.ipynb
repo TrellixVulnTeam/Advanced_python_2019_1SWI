{
 "cells": [
  {
   "cell_type": "code",
   "execution_count": 2,
   "metadata": {},
   "outputs": [],
   "source": [
    "data = [\n",
    "    {'name':'user', 'age':12, 'money':0.89},\n",
    "    {'name':'user', 'age':12, 'money':0.89},\n",
    "    {'name':'user', 'age':12, 'money':0.89},\n",
    "    {'name':'user', 'age':12, 'money':0.89},\n",
    "    {'name':'user', 'age':12, 'money':0.89},\n",
    "    {'name':'user', 'age':12, 'money':0.89},\n",
    "    {'name':'user', 'age':12, 'money':0.89},\n",
    "    {'name':'user', 'age':12, 'money':0.89},\n",
    "    {'name':'user', 'age':12, 'money':0.89},\n",
    "    {'name':'user', 'age':12, 'money':0.89},\n",
    "    {'name':'user', 'age':12, 'money':0.89},\n",
    "    {'name':'user', 'age':12, 'money':0.89},\n",
    "    {'name':'user', 'age':12, 'money':0.89},\n",
    "]"
   ]
  },
  {
   "cell_type": "code",
   "execution_count": 3,
   "metadata": {},
   "outputs": [
    {
     "data": {
      "text/plain": [
       "'[{\"name\": \"user\", \"age\": 12, \"money\": 0.89}, {\"name\": \"user\", \"age\": 12, \"money\": 0.89}, {\"name\": \"user\", \"age\": 12, \"money\": 0.89}, {\"name\": \"user\", \"age\": 12, \"money\": 0.89}, {\"name\": \"user\", \"age\": 12, \"money\": 0.89}, {\"name\": \"user\", \"age\": 12, \"money\": 0.89}, {\"name\": \"user\", \"age\": 12, \"money\": 0.89}, {\"name\": \"user\", \"age\": 12, \"money\": 0.89}, {\"name\": \"user\", \"age\": 12, \"money\": 0.89}, {\"name\": \"user\", \"age\": 12, \"money\": 0.89}, {\"name\": \"user\", \"age\": 12, \"money\": 0.89}, {\"name\": \"user\", \"age\": 12, \"money\": 0.89}, {\"name\": \"user\", \"age\": 12, \"money\": 0.89}]'"
      ]
     },
     "execution_count": 3,
     "metadata": {},
     "output_type": "execute_result"
    }
   ],
   "source": [
    "import json \n",
    "\n",
    "json.dumps(data)"
   ]
  },
  {
   "cell_type": "code",
   "execution_count": 6,
   "metadata": {},
   "outputs": [],
   "source": [
    "import json\n",
    "\n",
    "with open('data/write.json', 'w') as file:\n",
    "    json.dump(data, file)"
   ]
  },
  {
   "cell_type": "code",
   "execution_count": 7,
   "metadata": {},
   "outputs": [],
   "source": []
  },
  {
   "cell_type": "code",
   "execution_count": 10,
   "metadata": {},
   "outputs": [
    {
     "name": "stdout",
     "output_type": "stream",
     "text": [
      "[{'name': 'user', 'age': 12, 'money': 0.89}, {'name': 'user', 'age': 12, 'money': 0.89}, {'name': 'user', 'age': 12, 'money': 0.89}, {'name': 'user', 'age': 12, 'money': 0.89}, {'name': 'user', 'age': 12, 'money': 0.89}, {'name': 'user', 'age': 12, 'money': 0.89}, {'name': 'user', 'age': 12, 'money': 0.89}, {'name': 'user', 'age': 12, 'money': 0.89}, {'name': 'user', 'age': 12, 'money': 0.89}, {'name': 'user', 'age': 12, 'money': 0.89}, {'name': 'user', 'age': 12, 'money': 0.89}, {'name': 'user', 'age': 12, 'money': 0.89}, {'name': 'user', 'age': 12, 'money': 0.89}]\n"
     ]
    }
   ],
   "source": [
    "import json\n",
    "\n",
    "with open('data/read.json') as file:\n",
    "    print(json.load(file))"
   ]
  },
  {
   "cell_type": "code",
   "execution_count": 12,
   "metadata": {},
   "outputs": [
    {
     "name": "stdout",
     "output_type": "stream",
     "text": [
      "[{'name': 'user', 'age': 12, 'money': 0.89}, {'name': 'user', 'age': 12, 'money': 0.89}, {'name': 'user', 'age': 12, 'money': 0.89}, {'name': 'user', 'age': 12, 'money': 0.89}, {'name': 'user', 'age': 12, 'money': 0.89}, {'name': 'user', 'age': 12, 'money': 0.89}, {'name': 'user', 'age': 12, 'money': 0.89}, {'name': 'user', 'age': 12, 'money': 0.89}, {'name': 'user', 'age': 12, 'money': 0.89}, {'name': 'user', 'age': 12, 'money': 0.89}, {'name': 'user', 'age': 12, 'money': 0.89}, {'name': 'user', 'age': 12, 'money': 0.89}, {'name': 'user', 'age': 12, 'money': 0.89}]\n"
     ]
    }
   ],
   "source": [
    "import json\n",
    "\n",
    "raw = '''\n",
    "[\n",
    "    {\n",
    "        \"name\": \"user\",\n",
    "        \"age\": 12,\n",
    "        \"money\": 0.89\n",
    "    },\n",
    "    {\n",
    "        \"name\": \"user\",\n",
    "        \"age\": 12,\n",
    "        \"money\": 0.89\n",
    "    },\n",
    "    {\n",
    "        \"name\": \"user\",\n",
    "        \"age\": 12,\n",
    "        \"money\": 0.89\n",
    "    },\n",
    "    {\n",
    "        \"name\": \"user\",\n",
    "        \"age\": 12,\n",
    "        \"money\": 0.89\n",
    "    },\n",
    "    {\n",
    "        \"name\": \"user\",\n",
    "        \"age\": 12,\n",
    "        \"money\": 0.89\n",
    "    },\n",
    "    {\n",
    "        \"name\": \"user\",\n",
    "        \"age\": 12,\n",
    "        \"money\": 0.89\n",
    "    },\n",
    "    {\n",
    "        \"name\": \"user\",\n",
    "        \"age\": 12,\n",
    "        \"money\": 0.89\n",
    "    },\n",
    "    {\n",
    "        \"name\": \"user\",\n",
    "        \"age\": 12,\n",
    "        \"money\": 0.89\n",
    "    },\n",
    "    {\n",
    "        \"name\": \"user\",\n",
    "        \"age\": 12,\n",
    "        \"money\": 0.89\n",
    "    },\n",
    "    {\n",
    "        \"name\": \"user\",\n",
    "        \"age\": 12,\n",
    "        \"money\": 0.89\n",
    "    },\n",
    "    {\n",
    "        \"name\": \"user\",\n",
    "        \"age\": 12,\n",
    "        \"money\": 0.89\n",
    "    },\n",
    "    {\n",
    "        \"name\": \"user\",\n",
    "        \"age\": 12,\n",
    "        \"money\": 0.89\n",
    "    },\n",
    "    {\n",
    "        \"name\": \"user\",\n",
    "        \"age\": 12,\n",
    "        \"money\": 0.89\n",
    "    }\n",
    "]\n",
    "'''\n",
    "\n",
    "with open('data/read.json') as file:\n",
    "    print(json.loads(raw))"
   ]
  },
  {
   "cell_type": "code",
   "execution_count": null,
   "metadata": {},
   "outputs": [],
   "source": []
  }
 ],
 "metadata": {
  "kernelspec": {
   "display_name": "Python 3",
   "language": "python",
   "name": "python3"
  },
  "language_info": {
   "codemirror_mode": {
    "name": "ipython",
    "version": 3
   },
   "file_extension": ".py",
   "mimetype": "text/x-python",
   "name": "python",
   "nbconvert_exporter": "python",
   "pygments_lexer": "ipython3",
   "version": "3.7.3"
  }
 },
 "nbformat": 4,
 "nbformat_minor": 2
}
